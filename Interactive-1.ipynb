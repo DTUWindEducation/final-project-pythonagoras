{
 "cells": [
  {
   "cell_type": "markdown",
   "metadata": {},
   "source": [
    "_Connecting to base (Python 3.12.8)..._"
   ]
  },
  {
   "cell_type": "code",
   "execution_count": null,
   "id": "81b73341-c375-4217-b13e-7e82c7ba87ad",
   "metadata": {},
   "outputs": [],
   "source": [
    "class GeneralWindTurbine:\n",
    "    def __init__(self, rotor_diameter, hub_height, rated_power, v_in, v_rated, v_out, name):\n",
    "        self.rotor_diameter = rotor_diameter  # in meters\n",
    "        self.hub_height = hub_height  # in meters\n",
    "        self.rated_power = rated_power  # in kW\n",
    "        self.v_in = v_in  # in m/s\n",
    "        self.v_rated = v_rated  # in m/s\n",
    "        self.v_out = v_out  # in m/s\n",
    "        self.name = name  # turbine name\n",
    "    \n",
    "\n",
    "GeneralWindTurbine_initial = GeneralWindTurbine(100, 120, 3000, 3, 12, 25, \"GE Haliade-X\") "
   ]
  }
 ],
 "metadata": {
  "kernelspec": {
   "display_name": "base",
   "language": "python",
   "name": "python3"
  },
  "language_info": {
   "name": "python",
   "version": "3.12.8"
  }
 },
 "nbformat": 4,
 "nbformat_minor": 2
}
